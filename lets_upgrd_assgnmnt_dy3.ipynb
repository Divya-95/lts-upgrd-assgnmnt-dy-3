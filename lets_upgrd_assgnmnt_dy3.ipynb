{
  "nbformat": 4,
  "nbformat_minor": 0,
  "metadata": {
    "colab": {
      "name": "lets upgrd assgnmnt dy3",
      "provenance": [],
      "collapsed_sections": [],
      "authorship_tag": "ABX9TyOI1Zqes5BsNMr0DC78DqOA",
      "include_colab_link": true
    },
    "kernelspec": {
      "name": "python3",
      "display_name": "Python 3"
    }
  },
  "cells": [
    {
      "cell_type": "markdown",
      "metadata": {
        "id": "view-in-github",
        "colab_type": "text"
      },
      "source": [
        "<a href=\"https://colab.research.google.com/github/Divya-95/lts-upgrd-assgnmnt-dy-3/blob/master/lets_upgrd_assgnmnt_dy3.ipynb\" target=\"_parent\"><img src=\"https://colab.research.google.com/assets/colab-badge.svg\" alt=\"Open In Colab\"/></a>"
      ]
    },
    {
      "cell_type": "code",
      "metadata": {
        "id": "RzjRnZ3WMbW2",
        "colab_type": "code",
        "colab": {
          "base_uri": "https://localhost:8080/",
          "height": 852
        },
        "outputId": "325d6c34-27af-468d-86f5-0933244d0090"
      },
      "source": [
        " \n",
        "print(\"prime numbers between\", 1, \"and\",200, \"are:\")\n",
        " \n",
        "for i in range(1,200):\n",
        " \n",
        "  if i>1:\n",
        " \n",
        "    for j in range(2,i):\n",
        " \n",
        "      if (i%j)==0:\n",
        " \n",
        "         break\n",
        " \n",
        "    else:\n",
        " \n",
        "         print(i)"
      ],
      "execution_count": 7,
      "outputs": [
        {
          "output_type": "stream",
          "text": [
            "prime numbers between 1 and 200 are:\n",
            "2\n",
            "3\n",
            "5\n",
            "7\n",
            "11\n",
            "13\n",
            "17\n",
            "19\n",
            "23\n",
            "29\n",
            "31\n",
            "37\n",
            "41\n",
            "43\n",
            "47\n",
            "53\n",
            "59\n",
            "61\n",
            "67\n",
            "71\n",
            "73\n",
            "79\n",
            "83\n",
            "89\n",
            "97\n",
            "101\n",
            "103\n",
            "107\n",
            "109\n",
            "113\n",
            "127\n",
            "131\n",
            "137\n",
            "139\n",
            "149\n",
            "151\n",
            "157\n",
            "163\n",
            "167\n",
            "173\n",
            "179\n",
            "181\n",
            "191\n",
            "193\n",
            "197\n",
            "199\n"
          ],
          "name": "stdout"
        }
      ]
    },
    {
      "cell_type": "code",
      "metadata": {
        "id": "rkb26OVTPRlm",
        "colab_type": "code",
        "colab": {
          "base_uri": "https://localhost:8080/",
          "height": 52
        },
        "outputId": "9054b2d3-d91c-4c7b-e448-bd215e306c13"
      },
      "source": [
        "altitude=int(input(\"Enter current altitude\"))\n",
        "if altitude<=1000:\n",
        " print(\"Safe to land\")\n",
        "elif altitude<=4500:\n",
        " print(\"Bring down to 1000\")\n",
        "else:\n",
        " print(\"Turn around\")"
      ],
      "execution_count": 6,
      "outputs": [
        {
          "output_type": "stream",
          "text": [
            "Enter current altitude4600\n",
            "Turn around\n"
          ],
          "name": "stdout"
        }
      ]
    }
  ]
}